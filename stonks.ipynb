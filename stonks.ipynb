{
 "cells": [
  {
   "cell_type": "code",
   "execution_count": 18,
   "metadata": {},
   "outputs": [],
   "source": [
    "from stonks import get_stock_history\n",
    "import pandas as pd"
   ]
  },
  {
   "cell_type": "code",
   "execution_count": 19,
   "metadata": {},
   "outputs": [
    {
     "data": {
      "text/html": [
       "<div>\n",
       "<style scoped>\n",
       "    .dataframe tbody tr th:only-of-type {\n",
       "        vertical-align: middle;\n",
       "    }\n",
       "\n",
       "    .dataframe tbody tr th {\n",
       "        vertical-align: top;\n",
       "    }\n",
       "\n",
       "    .dataframe thead th {\n",
       "        text-align: right;\n",
       "    }\n",
       "</style>\n",
       "<table border=\"1\" class=\"dataframe\">\n",
       "  <thead>\n",
       "    <tr style=\"text-align: right;\">\n",
       "      <th></th>\n",
       "      <th>time</th>\n",
       "      <th>open</th>\n",
       "      <th>high</th>\n",
       "      <th>low</th>\n",
       "      <th>close</th>\n",
       "      <th>volume</th>\n",
       "    </tr>\n",
       "  </thead>\n",
       "  <tbody>\n",
       "    <tr>\n",
       "      <th>0</th>\n",
       "      <td>2023-06-02 19:00:00</td>\n",
       "      <td>181.010</td>\n",
       "      <td>181.11</td>\n",
       "      <td>180.96</td>\n",
       "      <td>181.11</td>\n",
       "      <td>24390</td>\n",
       "    </tr>\n",
       "    <tr>\n",
       "      <th>1</th>\n",
       "      <td>2023-06-02 18:00:00</td>\n",
       "      <td>180.980</td>\n",
       "      <td>181.06</td>\n",
       "      <td>180.95</td>\n",
       "      <td>181.06</td>\n",
       "      <td>21791</td>\n",
       "    </tr>\n",
       "    <tr>\n",
       "      <th>2</th>\n",
       "      <td>2023-06-02 17:00:00</td>\n",
       "      <td>181.060</td>\n",
       "      <td>181.11</td>\n",
       "      <td>180.94</td>\n",
       "      <td>180.98</td>\n",
       "      <td>52198</td>\n",
       "    </tr>\n",
       "    <tr>\n",
       "      <th>3</th>\n",
       "      <td>2023-06-02 16:00:00</td>\n",
       "      <td>180.950</td>\n",
       "      <td>181.09</td>\n",
       "      <td>180.83</td>\n",
       "      <td>181.06</td>\n",
       "      <td>4357950</td>\n",
       "    </tr>\n",
       "    <tr>\n",
       "      <th>4</th>\n",
       "      <td>2023-06-02 15:00:00</td>\n",
       "      <td>180.625</td>\n",
       "      <td>181.10</td>\n",
       "      <td>180.59</td>\n",
       "      <td>180.95</td>\n",
       "      <td>10213901</td>\n",
       "    </tr>\n",
       "  </tbody>\n",
       "</table>\n",
       "</div>"
      ],
      "text/plain": [
       "                  time     open    high     low   close    volume\n",
       "0  2023-06-02 19:00:00  181.010  181.11  180.96  181.11     24390\n",
       "1  2023-06-02 18:00:00  180.980  181.06  180.95  181.06     21791\n",
       "2  2023-06-02 17:00:00  181.060  181.11  180.94  180.98     52198\n",
       "3  2023-06-02 16:00:00  180.950  181.09  180.83  181.06   4357950\n",
       "4  2023-06-02 15:00:00  180.625  181.10  180.59  180.95  10213901"
      ]
     },
     "execution_count": 19,
     "metadata": {},
     "output_type": "execute_result"
    }
   ],
   "source": [
    "data = get_stock_history(\"AAPL\", \"05/2023\", interval=\"60min\")\n",
    "data.head()"
   ]
  },
  {
   "cell_type": "code",
   "execution_count": null,
   "metadata": {},
   "outputs": [],
   "source": []
  }
 ],
 "metadata": {
  "kernelspec": {
   "display_name": "stonks",
   "language": "python",
   "name": "python3"
  },
  "language_info": {
   "codemirror_mode": {
    "name": "ipython",
    "version": 3
   },
   "file_extension": ".py",
   "mimetype": "text/x-python",
   "name": "python",
   "nbconvert_exporter": "python",
   "pygments_lexer": "ipython3",
   "version": "3.11.3"
  },
  "orig_nbformat": 4
 },
 "nbformat": 4,
 "nbformat_minor": 2
}
