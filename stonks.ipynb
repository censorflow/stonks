{
 "cells": [
  {
   "cell_type": "code",
   "execution_count": 3,
   "metadata": {},
   "outputs": [],
   "source": [
    "from stonks import get_stock_history\n",
    "import pandas as pd"
   ]
  },
  {
   "cell_type": "code",
   "execution_count": 4,
   "metadata": {},
   "outputs": [
    {
     "name": "stdout",
     "output_type": "stream",
     "text": [
      "https://www.alphavantage.co/query?function=TIME_SERIES_INTRADAY_EXTENDED&symbol=AAPL&interval=1min&slice=year1month1&apikey=GP58Y1THOEI0LXPV\n"
     ]
    },
    {
     "data": {
      "text/html": [
       "<div>\n",
       "<style scoped>\n",
       "    .dataframe tbody tr th:only-of-type {\n",
       "        vertical-align: middle;\n",
       "    }\n",
       "\n",
       "    .dataframe tbody tr th {\n",
       "        vertical-align: top;\n",
       "    }\n",
       "\n",
       "    .dataframe thead th {\n",
       "        text-align: right;\n",
       "    }\n",
       "</style>\n",
       "<table border=\"1\" class=\"dataframe\">\n",
       "  <thead>\n",
       "    <tr style=\"text-align: right;\">\n",
       "      <th></th>\n",
       "      <th>open</th>\n",
       "      <th>high</th>\n",
       "      <th>low</th>\n",
       "      <th>close</th>\n",
       "      <th>volume</th>\n",
       "    </tr>\n",
       "    <tr>\n",
       "      <th>time</th>\n",
       "      <th></th>\n",
       "      <th></th>\n",
       "      <th></th>\n",
       "      <th></th>\n",
       "      <th></th>\n",
       "    </tr>\n",
       "  </thead>\n",
       "  <tbody>\n",
       "    <tr>\n",
       "      <th>2023-06-02 16:00:00</th>\n",
       "      <td>180.95</td>\n",
       "      <td>180.95</td>\n",
       "      <td>180.89</td>\n",
       "      <td>180.950</td>\n",
       "      <td>853915</td>\n",
       "    </tr>\n",
       "    <tr>\n",
       "      <th>2023-06-02 15:59:00</th>\n",
       "      <td>181.00</td>\n",
       "      <td>181.03</td>\n",
       "      <td>180.82</td>\n",
       "      <td>180.950</td>\n",
       "      <td>1372070</td>\n",
       "    </tr>\n",
       "    <tr>\n",
       "      <th>2023-06-02 15:58:00</th>\n",
       "      <td>181.02</td>\n",
       "      <td>181.02</td>\n",
       "      <td>180.92</td>\n",
       "      <td>181.010</td>\n",
       "      <td>486541</td>\n",
       "    </tr>\n",
       "    <tr>\n",
       "      <th>2023-06-02 15:57:00</th>\n",
       "      <td>181.00</td>\n",
       "      <td>181.02</td>\n",
       "      <td>180.95</td>\n",
       "      <td>181.000</td>\n",
       "      <td>309535</td>\n",
       "    </tr>\n",
       "    <tr>\n",
       "      <th>2023-06-02 15:56:00</th>\n",
       "      <td>181.01</td>\n",
       "      <td>181.03</td>\n",
       "      <td>180.98</td>\n",
       "      <td>180.995</td>\n",
       "      <td>219776</td>\n",
       "    </tr>\n",
       "  </tbody>\n",
       "</table>\n",
       "</div>"
      ],
      "text/plain": [
       "                       open    high     low    close   volume\n",
       "time                                                         \n",
       "2023-06-02 16:00:00  180.95  180.95  180.89  180.950   853915\n",
       "2023-06-02 15:59:00  181.00  181.03  180.82  180.950  1372070\n",
       "2023-06-02 15:58:00  181.02  181.02  180.92  181.010   486541\n",
       "2023-06-02 15:57:00  181.00  181.02  180.95  181.000   309535\n",
       "2023-06-02 15:56:00  181.01  181.03  180.98  180.995   219776"
      ]
     },
     "execution_count": 4,
     "metadata": {},
     "output_type": "execute_result"
    }
   ],
   "source": [
    "df = get_stock_history(\"AAPL\", \"05/2023\", interval=\"1min\")\n",
    "df.head()"
   ]
  },
  {
   "cell_type": "code",
   "execution_count": null,
   "metadata": {},
   "outputs": [],
   "source": []
  }
 ],
 "metadata": {
  "kernelspec": {
   "display_name": "stonks",
   "language": "python",
   "name": "python3"
  },
  "language_info": {
   "codemirror_mode": {
    "name": "ipython",
    "version": 3
   },
   "file_extension": ".py",
   "mimetype": "text/x-python",
   "name": "python",
   "nbconvert_exporter": "python",
   "pygments_lexer": "ipython3",
   "version": "3.11.3"
  },
  "orig_nbformat": 4
 },
 "nbformat": 4,
 "nbformat_minor": 2
}
